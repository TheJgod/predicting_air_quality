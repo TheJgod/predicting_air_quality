{
 "cells": [
  {
   "cell_type": "markdown",
   "id": "16d0b646",
   "metadata": {},
   "source": [
    "# I will move this to EDA later\n",
    "\n",
    " Just kept it at project root so that I can import from features easily\n"
   ]
  },
  {
   "cell_type": "code",
   "execution_count": null,
   "id": "6506539a",
   "metadata": {},
   "outputs": [],
   "source": [
    "import pandas as pd\n",
    "import numpy as np\n",
    "from src.features.feature_engineering_maxim import *\n",
    "from datetime import datetime\n",
    "import pytz\n",
    "\n",
    "from sklearn.experimental import enable_iterative_imputer\n",
    "from sklearn.impute import IterativeImputer\n",
    "from lightgbm import LGBMRegressor\n"
   ]
  },
  {
   "cell_type": "code",
   "execution_count": null,
   "id": "84391e18",
   "metadata": {},
   "outputs": [],
   "source": [
    "train = pd.read_csv(\"data/train.csv\")\n",
    "train = get_features(train)"
   ]
  },
  {
   "cell_type": "markdown",
   "id": "5dfb1ea3",
   "metadata": {},
   "source": [
    "# Weather"
   ]
  },
  {
   "cell_type": "code",
   "execution_count": null,
   "id": "97bb4959",
   "metadata": {},
   "outputs": [],
   "source": [
    "weather = pd.read_csv(\"external_data/paris_meteostat_2020_2025.csv\", parse_dates=[\"time\"])\n",
    "weather.drop(columns=[\"snow\", \"wpgt\", \"tsun\", \"coco\"], inplace=True)\n",
    "\n",
    "print(weather.isna().sum())\n",
    "len(set(train[\"id\"]) - set(weather[\"time\"]))"
   ]
  },
  {
   "cell_type": "code",
   "execution_count": null,
   "id": "6cc48c5f",
   "metadata": {},
   "outputs": [],
   "source": [
    "weather_filled = fill_weather_gaps(weather)\n",
    "print(weather_filled.isna().sum())\n",
    "len(set(train[\"id\"]) - set(weather_filled[\"time\"]))"
   ]
  },
  {
   "cell_type": "code",
   "execution_count": null,
   "id": "bcf73239",
   "metadata": {},
   "outputs": [],
   "source": [
    "weather_final = enrich_weather_features(weather_filled)\n",
    "train = merge_weather(train, weather_final)\n",
    "train"
   ]
  },
  {
   "cell_type": "markdown",
   "id": "a882e797",
   "metadata": {},
   "source": [
    "# Lags & rolling"
   ]
  },
  {
   "cell_type": "code",
   "execution_count": null,
   "id": "7660714b",
   "metadata": {},
   "outputs": [],
   "source": [
    "train = make_lagged_features(\n",
    "    train,\n",
    "    pollutants=[\"valeur_NO2\",\"valeur_CO\",\"valeur_O3\",\"valeur_PM10\",\"valeur_PM25\"],\n",
    "    weather_vars=[\"temp\",\"rhum\",\"pres\",\"vpd\",\"abs_humidity\"],\n",
    "    lags=(1,3,6,12,24),\n",
    "    rolls=(3,6,12,24)\n",
    ")\n"
   ]
  },
  {
   "cell_type": "markdown",
   "id": "3c1a9e39",
   "metadata": {},
   "source": [
    "# Pollutant Imputation"
   ]
  },
  {
   "cell_type": "code",
   "execution_count": null,
   "id": "bef741e7",
   "metadata": {},
   "outputs": [],
   "source": [
    "BASE = LGBMRegressor(\n",
    "    n_estimators=500,\n",
    "    learning_rate=0.03,\n",
    "    num_leaves=64,\n",
    "    subsample=0.9,\n",
    "    colsample_bytree=0.9,\n",
    "    min_child_samples=20, \n",
    "    random_state=1\n",
    ")\n",
    "\n",
    "POLLUTANTS = [\"valeur_NO2\",\"valeur_CO\",\"valeur_O3\",\"valeur_PM10\",\"valeur_PM25\"]\n",
    "WEATHER = [\"temp\",\"rhum\",\"pres\",\"wind_u\",\"wind_v\",\"prcp\",\"is_wet_hour\",\n",
    "           \"rain_3h_sum\",\"vpd\",\"abs_humidity\",\"solar_elev_sin\",\"is_daylight\"]\n",
    "CAL = [\"is_weekend\",\"is_holiday\",\"month_sin\",\"month_cos\",\"weekday_sin\",\n",
    "       \"weekday_cos\",\"hour_sin\",\"hour_cos\"]\n",
    "\n",
    "\n",
    "\n",
    "\n",
    "train_imputed, imputer = impute_pollutants(train, pollutants=POLLUTANTS, weather=WEATHER, cal=CAL, base=BASE)"
   ]
  }
 ],
 "metadata": {
  "kernelspec": {
   "display_name": "ds310",
   "language": "python",
   "name": "python3"
  },
  "language_info": {
   "codemirror_mode": {
    "name": "ipython",
    "version": 3
   },
   "file_extension": ".py",
   "mimetype": "text/x-python",
   "name": "python",
   "nbconvert_exporter": "python",
   "pygments_lexer": "ipython3",
   "version": "3.10.18"
  }
 },
 "nbformat": 4,
 "nbformat_minor": 5
}
